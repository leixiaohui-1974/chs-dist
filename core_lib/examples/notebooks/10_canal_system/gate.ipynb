{
 "cells": [
  {
   "cell_type": "markdown",
   "metadata": {},
   "source": [
    "# 闸门模型 (Gate Model)"
   ]
  },
  {
   "cell_type": "markdown",
   "metadata": {},
   "source": [
    "`闸门 (Gate)` 类代表水管理系统中的一个可控闸门。它根据上游和下游的水位以及闸门的开启高度来模拟出流量。本Jupyter Notebook解释了如何使用 `Gate` 模型，并模拟其在变化的控制信号下的行为。"
   ]
  },
  {
   "cell_type": "markdown",
   "metadata": {},
   "source": [
    "## 状态变量\n",
    "\n",
    "闸门的状态由以下变量描述：\n",
    "\n",
    "- `opening` (float): 闸门的当前开启高度 (m)。\n",
    "- `outflow` (float): 通过闸门的出流量 (m³/s)。"
   ]
  },
  {
   "cell_type": "markdown",
   "metadata": {},
   "source": [
    "## 参数\n",
    "\n",
    "闸门的物理和操作特性由以下参数定义：\n",
    "\n",
    "- `discharge_coefficient` (float): 一个无量纲系数，代表闸门流量的效率。\n",
    "- `width` (float): 闸门的宽度 (m)。\n",
    "- `max_opening` (float): 闸门可能的最大开启高度 (m)。\n",
    "- `max_rate_of_change` (float): 闸门开启度可以变化的最大速度 (m/s)。"
   ]
  },
  {
   "cell_type": "markdown",
   "metadata": {},
   "source": [
    "## 仿真示例\n",
    "\n",
    "以下示例演示了如何创建一个 `Gate` 实例并模拟其操作。仿真显示了闸门开启到一个目标水平，然后关闭的过程。在每一步中，出流量都是基于假定的恒定水位计算的。\n",
    "\n",
    "**注意:** 要运行此Notebook，请确保您已安装 `matplotlib` (`pip install matplotlib`)，并且您是从项目的根目录运行Jupyter服务器的。"
   ]
  },
  {
   "cell_type": "code",
   "execution_count": null,
   "metadata": {},
   "outputs": [],
   "source": [
    "import matplotlib.pyplot as plt\n",
    "from swp.simulation_identification.physical_objects.gate import Gate\n",
    "from swp.core.interfaces import State, Parameters\n",
    "\n",
    "# 闸门的初始状态和参数\n",
    "initial_state = State(opening=0.0, outflow=0.0)\n",
    "parameters = Parameters(\n",
    "    discharge_coefficient=0.61,\n",
    "    width=5.0,              # 米\n",
    "    max_opening=2.0,        # 米\n",
    "    max_rate_of_change=0.05 # m/s\n",
    ")\n",
    "\n",
    "# 创建一个Gate实例\n",
    "gate = Gate(name=\"control_gate\", initial_state=initial_state, parameters=parameters)\n",
    "\n",
    "# 仿真设置\n",
    "dt = 1  # 时间步长（秒）\n",
    "simulation_duration = 120  # 2分钟\n",
    "num_steps = int(simulation_duration / dt)\n",
    "\n",
    "# 存储结果用于绘图\n",
    "history = []\n",
    "\n",
    "# 定义仿真的外部条件和控制信号\n",
    "upstream_water_level = 10.0  # 恒定的上游水位 (m)\n",
    "downstream_water_level = 8.0   # 恒定的下游水位 (m)\n",
    "\n",
    "# 运行仿真循环\n",
    "for t in range(num_steps):\n",
    "    # 根据时间定义控制信号\n",
    "    if t < 20:\n",
    "        target_opening = 1.5  # 命令开启\n",
    "    elif t > 80:\n",
    "        target_opening = 0.5  # 命令部分关闭\n",
    "    else:\n",
    "        target_opening = 1.5 # 保持开启度\n",
    "        \n",
    "    action = {\n",
    "        'control_signal': target_opening,\n",
    "        'upstream_head': upstream_water_level,\n",
    "        'downstream_head': downstream_water_level\n",
    "    }\n",
    "    \n",
    "    current_state = gate.step(action=action, dt=dt)\n",
    "    history.append(current_state.copy())\n",
    "\n",
    "# 打印最终状态\n",
    "print(\"最终状态:\", gate.get_state())\n",
    "\n",
    "# 准备绘图数据\n",
    "time_steps = [i * dt for i in range(num_steps)]\n",
    "openings = [s['opening'] for s in history]\n",
    "outflows = [s['outflow'] for s in history]\n",
    "\n",
    "# 绘制结果\n",
    "fig, (ax1, ax2) = plt.subplots(2, 1, figsize=(10, 8), sharex=True)\n",
    "\n",
    "ax1.plot(time_steps, openings, label='闸门开启度 (Gate Opening)')\n",
    "ax1.set_ylabel('开启度 (m)')\n",
    "ax1.set_title('闸门操作仿真')\n",
    "ax1.axhline(1.5, color='r', linestyle='--', label='目标开启度 (1.5m)')\n",
    "ax1.axhline(0.5, color='g', linestyle='--', label='目标开启度 (0.5m)')\n",
    "ax1.grid(True)\n",
    "ax1.legend()\n",
    "\n",
    "ax2.plot(time_steps, outflows, label='出流量 (Outflow)', color='orange')\n",
    "ax2.set_xlabel('时间 (秒)')\n",
    "ax2.set_ylabel('出流量 (m³/s)')\n",
    "ax2.grid(True)\n",
    "ax2.legend()\n",
    "\n",
    "plt.tight_layout()\n",
    "plt.show()\n"
   ]
  }
 ],
 "metadata": {
  "kernelspec": {
   "display_name": "Python 3",
   "language": "python",
   "name": "python3"
  },
  "language_info": {
   "codemirror_mode": {
    "name": "ipython",
    "version": 3
   },
   "file_extension": ".py",
   "mimetype": "text/x-python",
   "name": "python",
   "nbconvert_exporter": "python",
   "pygments_lexer": "ipython3",
   "version": "3.12.1"
  }
 },
 "nbformat": 4,
 "nbformat_minor": 2
}
