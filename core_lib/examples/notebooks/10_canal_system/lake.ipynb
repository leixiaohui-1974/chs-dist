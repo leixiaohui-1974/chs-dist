{
 "cells": [
  {
   "cell_type": "markdown",
   "metadata": {},
   "source": [
    "# 湖泊模型 (Lake Model)"
   ]
  },
  {
   "cell_type": "markdown",
   "metadata": {},
   "source": [
    "`湖泊 (Lake)` 类模拟了一个具有恒定表面积的湖泊或水库。它通过计算入流、出流和蒸发来追踪水量和水位。本Jupyter Notebook概述了 `Lake` 模型并对其行为进行了仿真。"
   ]
  },
  {
   "cell_type": "markdown",
   "metadata": {},
   "source": [
    "## 状态变量\n",
    "\n",
    "湖泊的状态由以下变量定义：\n",
    "\n",
    "- `volume` (float): 湖中当前的水量 (m³)。\n",
    "- `water_level` (float): 水位，由水量和表面积计算得出 (m)。\n",
    "- `outflow` (float): 湖泊的出流量 (m³/s)，通常由下游组件决定。"
   ]
  },
  {
   "cell_type": "markdown",
   "metadata": {},
   "source": [
    "## 参数\n",
    "\n",
    "湖泊的物理属性使用这些参数设置：\n",
    "\n",
    "- `surface_area` (float): 湖泊的表面积 (m²)。\n",
    "- `max_volume` (float): 湖泊的最大蓄水容量 (m³)。\n",
    "- `evaporation_rate_m_per_s` (float): 湖泊表面的水分蒸发速率 (m/s)。"
   ]
  },
  {
   "cell_type": "markdown",
   "metadata": {},
   "source": [
    "## 仿真示例\n",
    "\n",
    "以下代码模拟了一个湖泊随时间的变化。它从一个初始水量开始，并施加一个恒定的入流。在仿真过程中，出流量会发生变化，以展示其对湖泊水量和水位的影响。然后将结果绘制成图表。\n",
    "\n",
    "**注意:** 要运行此Notebook，请确保您已安装 `matplotlib` (`pip install matplotlib`)，并且您是从项目的根目录运行Jupyter服务器的。"
   ]
  },
  {
   "cell_type": "code",
   "execution_count": null,
   "metadata": {},
   "outputs": [],
   "source": [
    "import matplotlib.pyplot as plt\n",
    "from swp.simulation_identification.physical_objects.lake import Lake\n",
    "from swp.core.interfaces import State, Parameters\n",
    "\n",
    "# 湖泊的初始状态和参数\n",
    "initial_state = State(volume=5e6, water_level=0.0, outflow=0.0)\n",
    "parameters = Parameters(\n",
    "    surface_area=1e6,      # 1 平方公里\n",
    "    max_volume=10e6,       # 1000万立方米\n",
    "    evaporation_rate_m_per_s=1e-8 # 约 0.864 毫米/天\n",
    ")\n",
    "\n",
    "# 创建一个Lake实例\n",
    "lake = Lake(name=\"main_lake\", initial_state=initial_state, parameters=parameters)\n",
    "\n",
    "# 仿真设置\n",
    "dt = 3600  # 时间步长（秒）(1小时)\n",
    "simulation_duration = 3600 * 24 * 5  # 5天\n",
    "num_steps = int(simulation_duration / dt)\n",
    "inflow_rate = 10.0  # 恒定入流 (m³/s)\n",
    "\n",
    "# 存储结果用于绘图\n",
    "history = []\n",
    "\n",
    "# 运行仿真循环\n",
    "for t in range(num_steps):\n",
    "    # 假设出流量由下游用户请求\n",
    "    if t > num_steps // 2:\n",
    "        requested_outflow = 15.0 # 增加的需求\n",
    "    else:\n",
    "        requested_outflow = 5.0 # 正常需求\n",
    "        \n",
    "    action = {'outflow': requested_outflow}\n",
    "    \n",
    "    lake.set_inflow(inflow_rate)\n",
    "    current_state = lake.step(action=action, dt=dt)\n",
    "    history.append(current_state.copy())\n",
    "\n",
    "# 打印最终状态\n",
    "print(\"最终状态:\", lake.get_state())\n",
    "\n",
    "# 准备绘图数据\n",
    "time_in_hours = [i * dt / 3600 for i in range(num_steps)]\n",
    "volumes = [s['volume'] for s in history]\n",
    "water_levels = [s['water_level'] for s in history]\n",
    "outflows = [s['outflow'] for s in history]\n",
    "\n",
    "# 绘制结果\n",
    "fig, (ax1, ax2) = plt.subplots(2, 1, figsize=(12, 8), sharex=True)\n",
    "\n",
    "ax1.plot(time_in_hours, [v / 1e6 for v in volumes], label='水量 (Volume)')\n",
    "ax1.set_ylabel('水量 (百万 m³)')\n",
    "ax1.set_title('湖泊仿真')\n",
    "ax1.grid(True)\n",
    "ax1.legend()\n",
    "\n",
    "ax2.plot(time_in_hours, water_levels, label='水位 (Water Level)', color='orange')\n",
    "ax2.set_xlabel('时间 (小时)')\n",
    "ax2.set_ylabel('水位 (m)')\n",
    "ax2.grid(True)\n",
    "ax2.legend()\n",
    "\n",
    "plt.tight_layout()\n",
    "plt.show()\n"
   ]
  }
 ],
 "metadata": {
  "kernelspec": {
   "display_name": "Python 3",
   "language": "python",
   "name": "python3"
  },
  "language_info": {
   "codemirror_mode": {
    "name": "ipython",
    "version": 3
   },
   "file_extension": ".py",
   "mimetype": "text/x-python",
   "name": "python",
   "nbconvert_exporter": "python",
   "pygments_lexer": "ipython3",
   "version": "3.12.1"
  }
 },
 "nbformat": 4,
 "nbformat_minor": 2
}
