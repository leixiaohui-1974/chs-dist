{
 "cells": [
  {
   "cell_type": "markdown",
   "metadata": {},
   "source": [
    "# 渠道模型 (Canal Model)"
   ]
  },
  {
   "cell_type": "markdown",
   "metadata": {},
   "source": [
    "`渠道 (Canal)` 类代表一个具有梯形横截面的渠道。它使用曼宁方程来模拟水流。本Jupyter Notebook演示了如何使用 `Canal` 类来模拟一个渠道段的水动力学过程。"
   ]
  },
  {
   "cell_type": "markdown",
   "metadata": {},
   "source": [
    "## 状态变量\n",
    "\n",
    "渠道的状态由以下变量定义：\n",
    "\n",
    "- `volume` (float): 渠道中当前的水量 (m³)。\n",
    "- `water_level` (float): 渠道当前的水位 (m)。\n",
    "- `outflow` (float): 当前时间步计算出的渠道出流量 (m³/s)。"
   ]
  },
  {
   "cell_type": "markdown",
   "metadata": {},
   "source": [
    "## 参数\n",
    "\n",
    "渠道的物理特性由这些参数定义：\n",
    "\n",
    "- `bottom_width` (float): 渠道底部的宽度 (m)。\n",
    "- `length` (float): 渠道段的长度 (m)。\n",
    "- `slope` (float): 渠道河床的纵向坡度 (无量纲)。\n",
    "- `side_slope_z` (float): 渠道边坡的坡度 (z:1 中的 z，水平:垂直)。\n",
    "- `manning_n` (float): 曼宁糙率系数。"
   ]
  },
  {
   "cell_type": "markdown",
   "metadata": {},
   "source": [
    "## 仿真示例\n",
    "\n",
    "以下代码设置并运行一个渠道的仿真。它用一个初始水量和物理参数来初始化渠道，然后在一段时间内施加一个恒定的入流。仿真结果，包括水量、水位和出流量，将被绘制成图表。\n",
    "\n",
    "**注意:** 要运行此Notebook，请确保您已安装 `matplotlib` (`pip install matplotlib`)，并且您是从项目的根目录运行Jupyter服务器的。"
   ]
  },
  {
   "cell_type": "code",
   "execution_count": null,
   "metadata": {},
   "outputs": [],
   "source": [
    "import matplotlib.pyplot as plt\n",
    "from swp.simulation_identification.physical_objects.canal import Canal\n",
    "from swp.core.interfaces import State\n",
    "\n",
    "# 定义渠道的初始状态和参数\n",
    "initial_state = State(volume=1000.0, water_level=0.0, outflow=0.0)\n",
    "parameters = {\n",
    "    'bottom_width': 10.0,    # 米\n",
    "    'length': 1000.0,        # 米\n",
    "    'slope': 0.001,          # 无量纲\n",
    "    'side_slope_z': 2.0,     # z:1, 水平:垂直\n",
    "    'manning_n': 0.03        # 曼宁糙率系数\n",
    "}\n",
    "\n",
    "# 创建一个Canal模型的实例\n",
    "canal = Canal(name=\"main_canal\", initial_state=initial_state, parameters=parameters)\n",
    "\n",
    "# 仿真设置\n",
    "dt = 60  # 时间步长（秒）(1分钟)\n",
    "simulation_duration = 3600 * 2  # 2小时\n",
    "num_steps = int(simulation_duration / dt)\n",
    "inflow_rate = 5.0  # 恒定入流 (m³/s)\n",
    "\n",
    "# 存储结果用于绘图\n",
    "history = []\n",
    "\n",
    "# 运行仿真循环\n",
    "for _ in range(num_steps):\n",
    "    canal.set_inflow(inflow_rate)\n",
    "    current_state = canal.step(action=None, dt=dt)\n",
    "    history.append(current_state.copy()) # 在每一步存储状态的副本\n",
    "\n",
    "# 打印渠道的最终状态\n",
    "print(\"最终状态:\")\n",
    "print(canal.get_state())\n",
    "\n",
    "# 准备绘图数据\n",
    "time_in_hours = [i * dt / 3600 for i in range(num_steps)]\n",
    "volumes = [s['volume'] for s in history]\n",
    "water_levels = [s['water_level'] for s in history]\n",
    "outflows = [s['outflow'] for s in history]\n",
    "\n",
    "# 绘制结果\n",
    "fig, (ax1, ax2, ax3) = plt.subplots(3, 1, figsize=(12, 10), sharex=True)\n",
    "\n",
    "ax1.plot(time_in_hours, volumes, label='水量 (Volume)')\n",
    "ax1.set_ylabel('水量 (m³)')\n",
    "ax1.set_title('渠道动态仿真')\n",
    "ax1.grid(True)\n",
    "ax1.legend()\n",
    "\n",
    "ax2.plot(time_in_hours, water_levels, label='水位 (Water Level)', color='orange')\n",
    "ax2.set_ylabel('水位 (m)')\n",
    "ax2.grid(True)\n",
    "ax2.legend()\n",
    "\n",
    "ax3.plot(time_in_hours, outflows, label='出流量 (Outflow)', color='green')\n",
    "ax3.set_xlabel('时间 (小时)')\n",
    "ax3.set_ylabel('出流量 (m³/s)')\n",
    "ax3.grid(True)\n",
    "ax3.legend()\n",
    "\n",
    "plt.tight_layout()\n",
    "plt.show()\n"
   ]
  }
 ],
 "metadata": {
  "kernelspec": {
   "display_name": "Python 3",
   "language": "python",
   "name": "python3"
  },
  "language_info": {
   "codemirror_mode": {
    "name": "ipython",
    "version": 3
   },
   "file_extension": ".py",
   "mimetype": "text/x-python",
   "name": "python",
   "nbconvert_exporter": "python",
   "pygments_lexer": "ipython3",
   "version": "3.12.1"
  }
 },
 "nbformat": 4,
 "nbformat_minor": 2
}
