{
 "cells": [
  {
   "cell_type": "markdown",
   "metadata": {},
   "source": [
    "# 水库模型 (Reservoir Model)"
   ]
  },
  {
   "cell_type": "markdown",
   "metadata": {},
   "source": [
    "`水库 (Reservoir)` 类模拟一个简单的水库。其主要功能是根据入流和出流来追踪蓄水量。水位由水量和固定的表面积计算得出。本Jupyter Notebook演示了如何设置和运行一个带有 `Reservoir` 模型的仿真。"
   ]
  },
  {
   "cell_type": "markdown",
   "metadata": {},
   "source": [
    "## 状态变量\n",
    "\n",
    "水库的状态由以下变量定义：\n",
    "\n",
    "- `volume` (float): 水库当前的蓄水量 (m³)。\n",
    "- `water_level` (float): 水位，计算方式为水量除以表面积 (m)。\n",
    "- `outflow` (float): 水库的出流量 (m³/s)，由下游需求决定。"
   ]
  },
  {
   "cell_type": "markdown",
   "metadata": {},
   "source": [
    "## 参数\n",
    "\n",
    "水库的物理属性通过以下参数设置：\n",
    "\n",
    "- `surface_area` (float): 水库的表面积 (m²)。"
   ]
  },
  {
   "cell_type": "markdown",
   "metadata": {},
   "source": [
    "## 仿真示例\n",
    "\n",
    "以下代码模拟了一个水库在几天内的变化。它从一个初始水量开始，并接收恒定的入流。出流量在仿真过程中会变化，以模拟变化的需求。仿真跟踪了水库的水量和水位，然后将它们绘制成图表。\n",
    "\n",
    "**注意:** 要运行此Notebook，请确保您已安装 `matplotlib` (`pip install matplotlib`)，并且您是从项目的根目录运行Jupyter服务器的。"
   ]
  },
  {
   "cell_type": "code",
   "execution_count": null,
   "metadata": {},
   "outputs": [],
   "source": [
    "import matplotlib.pyplot as plt\n",
    "from swp.simulation_identification.physical_objects.reservoir import Reservoir\n",
    "from swp.core.interfaces import State, Parameters\n",
    "\n",
    "# 水库的初始状态和参数\n",
    "initial_state = State(volume=2e7, water_level=0.0, outflow=0.0)\n",
    "parameters = Parameters(surface_area=2e6) # 2 平方公里\n",
    "\n",
    "# 创建一个Reservoir实例\n",
    "reservoir = Reservoir(name=\"main_reservoir\", initial_state=initial_state, parameters=parameters)\n",
    "\n",
    "# 仿真设置\n",
    "dt = 3600  # 时间步长（秒）(1小时)\n",
    "simulation_duration = 3600 * 24 * 10  # 10天\n",
    "num_steps = int(simulation_duration / dt)\n",
    "inflow_rate = 20.0  # 恒定入流 (m³/s)\n",
    "\n",
    "# 存储结果用于绘图\n",
    "history = []\n",
    "\n",
    "# 运行仿真循环\n",
    "for t in range(num_steps):\n",
    "    # 模拟变化的出流需求\n",
    "    if (t // 24) % 2 == 0: # 每隔一天交替需求\n",
    "        requested_outflow = 25.0\n",
    "    else:\n",
    "        requested_outflow = 15.0\n",
    "        \n",
    "    action = {'outflow': requested_outflow}\n",
    "    \n",
    "    reservoir.set_inflow(inflow_rate)\n",
    "    current_state = reservoir.step(action=action, dt=dt)\n",
    "    history.append(current_state.copy())\n",
    "\n",
    "# 打印最终状态\n",
    "print(\"最终状态:\", reservoir.get_state())\n",
    "\n",
    "# 准备绘图数据\n",
    "time_in_days = [i * dt / (3600*24) for i in range(num_steps)]\n",
    "volumes = [s['volume'] / 1e6 for s in history] # 单位：百万立方米\n",
    "water_levels = [s['water_level'] for s in history]\n",
    "\n",
    "# 绘制结果\n",
    "fig, (ax1, ax2) = plt.subplots(2, 1, figsize=(12, 8), sharex=True)\n",
    "\n",
    "ax1.plot(time_in_days, volumes, label='水量 (Volume)')\n",
    "ax1.set_ylabel('水量 (百万 m³)')\n",
    "ax1.set_title('水库仿真')\n",
    "ax1.grid(True)\n",
    "ax1.legend()\n",
    "\n",
    "ax2.plot(time_in_days, water_levels, label='水位 (Water Level)', color='orange')\n",
    "ax2.set_xlabel('时间 (天)')\n",
    "ax2.set_ylabel('水位 (m)')\n",
    "ax2.grid(True)\n",
    "ax2.legend()\n",
    "\n",
    "plt.tight_layout()\n",
    "plt.show()\n"
   ]
  }
 ],
 "metadata": {
  "kernelspec": {
   "display_name": "Python 3",
   "language": "python",
   "name": "python3"
  },
  "language_info": {
   "codemirror_mode": {
    "name": "ipython",
    "version": 3
   },
   "file_extension": ".py",
   "mimetype": "text/x-python",
   "name": "python",
   "nbconvert_exporter": "python",
   "pygments_lexer": "ipython3",
   "version": "3.12.1"
  }
 },
 "nbformat": 4,
 "nbformat_minor": 2
}
