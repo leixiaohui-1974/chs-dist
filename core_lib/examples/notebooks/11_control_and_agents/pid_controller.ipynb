{
 "cells": [
  {
   "cell_type": "markdown",
   "metadata": {},
   "source": [
    "# PID 控制器"
   ]
  },
  {
   "cell_type": "markdown",
   "metadata": {},
   "source": [
    "`PID控制器 (PIDController)` 类提供了一个标准的比例-积分-微分控制器的实现。PID控制是一种无处不在的反馈控制机制，广泛应用于工业控制系统和各种需要连续调制控制的应用中。本Jupyter Notebook解释了PID控制器的组成部分，并演示了其在控制一个简单模拟系统中的有效性。"
   ]
  },
  {
   "cell_type": "markdown",
   "metadata": {},
   "source": [
    "## PID控制的工作原理\n",
    "\n",
    "PID控制器持续计算一个`误差 (error)`值，该值是期望的`设定点 (setpoint)`与测量的`过程变量 (process_variable)`之间的差值。它试图通过调整一个`控制信号 (control_signal)`来随时间最小化这个误差。\n",
    "\n",
    "- **比例 (P) 项:** 输出与当前误差成正比。一个高的P增益会导致对误差的强烈响应，但也可能导致不稳定。\n",
    "- **积分 (I) 项:** 该项累积过去的误差。它旨在消除纯P控制器可能出现的稳态误差。\n",
    "- **微分 (D) 项:** 该项响应误差的变化率。它具有阻尼效应，可以减少超调并提高稳定性。\n",
    "\n",
    "### 抗积分饱和 (Anti-Windup)\n",
    "此实现包含一个称为**抗积分饱和**的重要特性。当控制器的输出饱和（达到其最大或最小限制）时，积分项可能会不受控制地增长，这种现象称为“饱和”。当系统最终脱离限制时，这可能导致显著的超调。我们的控制器通过在输出饱和时停止积分来防止这种情况。"
   ]
  },
  {
   "cell_type": "markdown",
   "metadata": {},
   "source": [
    "## 仿真示例\n",
    "\n",
    "在这个例子中，我们将使用`PIDController`来管理一个简单模拟水箱的水位。该水箱有一个入流（由PID控制）和一个恒定的出流（泄漏）。目标是维持水位在一个特定的设定点。我们还将引入一个扰动（泄漏突然增加），以观察控制器如何适应。\n",
    "\n",
    "**注意:** 要运行此Notebook，请确保您已安装 `matplotlib` 和 `numpy` (`pip install matplotlib numpy`)，并且您是从项目的根目录运行Jupyter服务器的。"
   ]
  },
  {
   "cell_type": "code",
   "execution_count": null,
   "metadata": {},
   "outputs": [],
   "source": [
    "import matplotlib.pyplot as plt\n",
    "import numpy as np\n",
    "from swp.local_agents.control.pid_controller import PIDController\n",
    "from swp.core.interfaces import State\n",
    "\n",
    "# 一个简单的水箱仿真（我们的'被控对象'）\n",
    "class SimpleTank:\n",
    "    def __init__(self, initial_level, area, leak_rate):\n",
    "        self.level = initial_level\n",
    "        self.area = area\n",
    "        self.leak_rate = leak_rate\n",
    "        \n",
    "    def update(self, inflow, dt):\n",
    "        delta_level = (inflow - self.leak_rate) / self.area * dt\n",
    "        self.level += delta_level\n",
    "        return self.level\n",
    "\n",
    "# --- 仿真设置 ---\n",
    "setpoint = 10.0 # 目标水位 (m)\n",
    "pid = PIDController(\n",
    "    Kp=1.2, Ki=0.1, Kd=0.5,\n",
    "    setpoint=setpoint,\n",
    "    min_output=0.0,  # 入流不能为负\n",
    "    max_output=10.0  # 最大水泵入流速率\n",
    ")\n",
    "\n",
    "tank = SimpleTank(initial_level=0.0, area=100.0, leak_rate=2.0)\n",
    "\n",
    "# --- 仿真循环 ---\n",
    "dt = 1.0\n",
    "duration = 200\n",
    "history = {'time': [], 'level': [], 'control_signal': [], 'setpoint': []}\n",
    "\n",
    "for t in range(int(duration/dt)):\n",
    "    # 在中途引入一个扰动\n",
    "    if t * dt > duration / 2:\n",
    "        tank.leak_rate = 4.0\n",
    "        \n",
    "    # 控制器计算动作\n",
    "    current_state = State(process_variable=tank.level)\n",
    "    control_signal = pid.compute_control_action(current_state, dt)\n",
    "    \n",
    "    # 被控对象被更新\n",
    "    tank.update(control_signal, dt)\n",
    "    \n",
    "    # 记录历史\n",
    "    history['time'].append(t * dt)\n",
    "    history['level'].append(tank.level)\n",
    "    history['control_signal'].append(control_signal)\n",
    "    history['setpoint'].append(setpoint)\n",
    "\n",
    "# --- 绘图 ---\n",
    "fig, ax1 = plt.subplots(figsize=(12, 6))\n",
    "ax1.plot(history['time'], history['level'], 'b-', label='水箱水位 (Tank Level)')\n",
    "ax1.plot(history['time'], history['setpoint'], 'k--', label='设定点 (Setpoint)')\n",
    "ax1.axvline(x=duration/2, color='r', linestyle='--', label='扰动 (增加泄漏)')\n",
    "ax1.set_xlabel('时间 (s)')\n",
    "ax1.set_ylabel('水位 (m)', color='b')\n",
    "ax1.tick_params(axis='y', labelcolor='b')\n",
    "ax1.set_title('水箱的PID控制')\n",
    "ax1.legend(loc='lower right')\n",
    "ax1.grid(True)\n",
    "\n",
    "ax2 = ax1.twinx()\n",
    "ax2.plot(history['time'], history['control_signal'], 'g:', label='控制信号 (入流)')\n",
    "ax2.set_ylabel('入流 (m³/s)', color='g')\n",
    "ax2.tick_params(axis='y', labelcolor='g')\n",
    "ax2.legend(loc='upper right')\n",
    "\n",
    "fig.tight_layout()\n",
    "plt.show()\n"
   ]
  }
 ],
 "metadata": {
  "kernelspec": {
   "display_name": "Python 3",
   "language": "python",
   "name": "python3"
  },
  "language_info": {
   "codemirror_mode": {
    "name": "ipython",
    "version": 3
   },
   "file_extension": ".py",
   "mimetype": "text/x-python",
   "name": "python",
   "nbconvert_exporter": "python",
   "pygments_lexer": "ipython3",
   "version": "3.12.1"
  }
 },
 "nbformat": 4,
 "nbformat_minor": 2
}
