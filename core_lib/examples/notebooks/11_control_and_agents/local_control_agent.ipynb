{
 "cells": [
  {
   "cell_type": "markdown",
   "metadata": {},
   "source": [
    "# 本地控制代理 (Local Control Agent)"
   ]
  },
  {
   "cell_type": "markdown",
   "metadata": {},
   "source": [
    "`本地控制代理 (LocalControlAgent)` 是多代理系统（MAS）中的一个关键组件。它充当特定控制算法（如PID控制器）的封装器，通过处理 `MessageBus` (消息总线) 上的通信，使其能够在更广泛的系统中运行。其主要职责是监听传感器数据，使用其封装的控制器进行处理，并发布一个控制动作。"
   ]
  },
  {
   "cell_type": "markdown",
   "metadata": {},
   "source": [
    "## 核心概念\n",
    "\n",
    "- **封装 (Encapsulation):** 它将控制逻辑的复杂性隐藏在一个专用的 `Controller` 对象内部。\n",
    "- **事件驱动 (Event-Driven):** 该代理不是在连续循环中运行。相反，它对消息作出反应。其核心逻辑在其订阅的 `observation_topic` 上有新消息到达时被触发。\n",
    "- **通信 (Communication):** 它使用 `MessageBus` 来订阅主题（用于传感器数据和命令）和发布主题（用于控制动作）。"
   ]
  },
  {
   "cell_type": "markdown",
   "metadata": {},
   "source": [
    "## 关键参数\n",
    "\n",
    "- `agent_id`: 代理的唯一标识符。\n",
    "- `controller`: 一个实现了 `Controller` 接口的类的实例。\n",
    "- `message_bus`: 系统的共享消息总线。\n",
    "- `observation_topic`: 代理监听传感器读数的主题。\n",
    "- `observation_key`: 观测消息中包含过程变量的特定键（例如，'water_level'）。\n",
    "- `action_topic`: 代理发布其计算出的控制信号的主题。"
   ]
  },
  {
   "cell_type": "markdown",
   "metadata": {},
   "source": [
    "## 仿真示例\n",
    "\n",
    "以下示例演示了如何设置和使用 `LocalControlAgent`。我们创建了一个模拟控制器、一个消息总线和代理本身。然后，我们模拟一个传感器发布新的测量值，我们将看到代理如何处理这些信息并发布一个相应的控制动作，该动作由一个模拟的执行器接收。\n",
    "\n",
    "**注意:** 要运行此Notebook，您需要从项目的根目录运行Jupyter服务器。"
   ]
  },
  {
   "cell_type": "code",
   "execution_count": null,
   "metadata": {},
   "outputs": [],
   "source": [
    "import time\n",
    "from swp.core.interfaces import Agent, Controller, State\n",
    "from swp.central_coordination.collaboration.message_bus import MessageBus, Message\n",
    "from swp.local_agents.control.local_control_agent import LocalControlAgent\n",
    "\n",
    "# 1. 用于演示的模拟比例控制器\n",
    "class MockProportionalController(Controller):\n",
    "    def __init__(self, gain):\n",
    "        self.gain = gain\n",
    "        self.setpoint = 5.0 # 目标值\n",
    "        \n",
    "    def compute_control_action(self, state: State, dt: float) -> any:\n",
    "        error = self.setpoint - state['process_variable']\n",
    "        return self.gain * error\n",
    "\n",
    "    def set_setpoint(self, new_setpoint: float):\n",
    "        self.setpoint = new_setpoint\n",
    "\n",
    "# 2. 设置通信总线\n",
    "bus = MessageBus()\n",
    "\n",
    "# 3. 模拟执行器以接收控制信号\n",
    "received_actions = []\n",
    "def actuator_callback(message: Message):\n",
    "    print(f\"执行器收到: {message}\")\n",
    "    received_actions.append(message)\n",
    "\n",
    "bus.subscribe('gate_control_topic', actuator_callback)\n",
    "\n",
    "# 4. 实例化控制器和代理\n",
    "p_controller = MockProportionalController(gain=0.5)\n",
    "control_agent = LocalControlAgent(\n",
    "    agent_id=\"gate_controller_1\",\n",
    "    controller=p_controller,\n",
    "    message_bus=bus,\n",
    "    observation_topic='reservoir_level_topic',\n",
    "    observation_key='water_level',\n",
    "    action_topic='gate_control_topic',\n",
    "    dt=1.0\n",
    ")\n",
    "\n",
    "# 5. 模拟传感器发布数据\n",
    "print(\"--- 传感器发布数据 ---\")\n",
    "sensor_data = {'water_level': 4.8, 'timestamp': time.time()}\n",
    "bus.publish('reservoir_level_topic', sensor_data)\n",
    "\n",
    "# 消息总线会立即处理消息\n",
    "print(\"--- 验证 ---\")\n",
    "assert len(received_actions) == 1\n",
    "# 修正了浮点数比较的断言\n",
    "assert abs(received_actions[0]['control_signal'] - (0.5 * (5.0 - 4.8))) < 1e-9\n",
    "print(\"成功接收到正确的控制信号。\")"
   ]
  }
 ],
 "metadata": {
  "kernelspec": {
   "display_name": "Python 3",
   "language": "python",
   "name": "python3"
  },
  "language_info": {
   "codemirror_mode": {
    "name": "ipython",
    "version": 3
   },
   "file_extension": ".py",
   "mimetype": "text/x-python",
   "name": "python",
   "nbconvert_exporter": "python",
   "pygments_lexer": "ipython3",
   "version": "3.12.1"
  }
 },
 "nbformat": 4,
 "nbformat_minor": 2
}
